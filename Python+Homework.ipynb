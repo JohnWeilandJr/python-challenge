{
 "cells": [
  {
   "cell_type": "code",
   "execution_count": null,
   "metadata": {
    "collapsed": true
   },
   "outputs": [],
   "source": [
    "import pandas as pd\n",
    "import numpy as np"
   ]
  },
  {
   "cell_type": "code",
   "execution_count": null,
   "metadata": {
    "collapsed": true
   },
   "outputs": [],
   "source": [
    "data_file = \"schools_complete.csv\""
   ]
  },
  {
   "cell_type": "code",
   "execution_count": null,
   "metadata": {},
   "outputs": [],
   "source": [
    "school_data = pd.read_csv(data_file)\n",
    "school_data.head()"
   ]
  },
  {
   "cell_type": "code",
   "execution_count": null,
   "metadata": {},
   "outputs": [],
   "source": [
    "data_file2 = \"students_complete.csv\"\n",
    "\n",
    "student_data = pd.read_csv(data_file2)\n",
    "student_data.head()"
   ]
  },
  {
   "cell_type": "code",
   "execution_count": null,
   "metadata": {},
   "outputs": [],
   "source": [
    "df = student_data[\"math_score\"].unique()\n",
    "df"
   ]
  },
  {
   "cell_type": "code",
   "execution_count": null,
   "metadata": {},
   "outputs": [],
   "source": [
    "total_schools = school_data[\"name\"].sum()\n",
    "total_students = student_data[\"Student ID\"].sum()\n",
    "total_budget = school_data[\"budget\"].sum()\n",
    "school_df = pd.DataFrame(school_data[\"name\"].value_counts())\n",
    "school_count = school_df[\"name\"].sum()\n",
    "school_count"
   ]
  },
  {
   "cell_type": "code",
   "execution_count": null,
   "metadata": {},
   "outputs": [],
   "source": [
    "avrg_math_score = student_data[\"math_score\"].mean()\n",
    "round(avrg_math_score)\n",
    "avrg_reading_score = student_data[\"reading_score\"].mean()\n",
    "round(avrg_reading_score)"
   ]
  },
  {
   "cell_type": "code",
   "execution_count": null,
   "metadata": {
    "collapsed": true,
    "scrolled": true
   },
   "outputs": [],
   "source": [
    "#% Passing Math\n",
    "total_math_scores = student_data[\"math_score\"].sum()\n",
    "count1 = student_data[\"math_score\"].value_counts()\n",
    "passing_math = sum(i > 60 for i in count1)\n",
    "per_passing_math = passing_math/total_math_scores*100\n"
   ]
  },
  {
   "cell_type": "code",
   "execution_count": null,
   "metadata": {
    "collapsed": true
   },
   "outputs": [],
   "source": [
    "#% Passing Reading\n",
    "total_reading_scores = student_data[\"reading_score\"].sum()\n",
    "count2 = student_data[\"reading_score\"].value_counts()\n",
    "passing_reading = sum(i > 60 for i in count2)\n",
    "per_passing_reading = passing_reading/total_reading_scores\n",
    "\n",
    "#Overall Passing Rate (Average of the above two)\n",
    "overall_passing = (per_passing_reading+per_passing_math)/2*100"
   ]
  },
  {
   "cell_type": "code",
   "execution_count": null,
   "metadata": {},
   "outputs": [],
   "source": [
    "district_summary = pd.DataFrame({\"Total Schools\": [school_count],\n",
    "                                    \"Total Students\": [total_students],\n",
    "                                    \"Total Budget\": [total_budget],\n",
    "                                    \"Average Math Score\":[round(avrg_math_score)],\n",
    "                                    \"Average Reading Score\":[round(avrg_reading_score)],\n",
    "                                    \"% Passing Math\": [per_passing_math],\n",
    "                                    \"% Passing Reading\": [per_passing_reading],\n",
    "                                    \"Overall Passing Rate\":[overall_passing]\n",
    "                                    \n",
    "})\n",
    "district_summary"
   ]
  },
  {
   "cell_type": "code",
   "execution_count": null,
   "metadata": {},
   "outputs": [],
   "source": [
    "budget_per_school = total_budget/school_count\n",
    "budget_per_school"
   ]
  },
  {
   "cell_type": "code",
   "execution_count": null,
   "metadata": {
    "collapsed": true
   },
   "outputs": [],
   "source": [
    "name = school_data[\"name\"]"
   ]
  },
  {
   "cell_type": "code",
   "execution_count": null,
   "metadata": {
    "collapsed": true
   },
   "outputs": [],
   "source": [
    "school_type = school_data[\"type\"]"
   ]
  },
  {
   "cell_type": "code",
   "execution_count": null,
   "metadata": {},
   "outputs": [],
   "source": [
    "#School Summary:\n",
    "\n",
    "\n",
    "school_summary = pd.DataFrame({\"School Name\": [name],\n",
    "                                    \"School Type\": [school_type],\n",
    "                                    \"Total Students\": [total_students],\n",
    "                                    \"Total School Budget\": [total_budget],\n",
    "                                    \"Budget Per School\":[budget_per_school],\n",
    "                                    \"Average Math Score\":[round(avrg_math_score)],\n",
    "                                    \"Average Reading Score\":[round(avrg_reading_score)],\n",
    "                                    \"% Passing Math\": [per_passing_math],\n",
    "                                    \"% Passing Reading\": [per_passing_reading],\n",
    "                                    \"Overall Passing Rate\":[overall_passing]\n",
    "                                    \n",
    "})\n",
    "school_summary"
   ]
  },
  {
   "cell_type": "code",
   "execution_count": null,
   "metadata": {
    "collapsed": true
   },
   "outputs": [],
   "source": []
  }
 ],
 "metadata": {
  "kernelspec": {
   "display_name": "Python 3",
   "language": "python",
   "name": "python3"
  },
  "language_info": {
   "codemirror_mode": {
    "name": "ipython",
    "version": 3
   },
   "file_extension": ".py",
   "mimetype": "text/x-python",
   "name": "python",
   "nbconvert_exporter": "python",
   "pygments_lexer": "ipython3",
   "version": "3.6.3"
  }
 },
 "nbformat": 4,
 "nbformat_minor": 2
}
